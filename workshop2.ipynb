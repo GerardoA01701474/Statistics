{
 "cells": [
  {
   "cell_type": "markdown",
   "metadata": {},
   "source": [
    "# Workshop 2, Advanced AI - Statistics Module\n",
    "\n",
    "    AUTHORS\n",
    "Alberto Dorantes D., Ph.D.\n",
    "\n",
    "Monterrey Tech, Queretaro Campus\n",
    "\n",
    "    ABSTRACT\n",
    "In this workshop we learn about a) The Central Limit Theore and b) Hypothesis Testing."
   ]
  },
  {
   "cell_type": "markdown",
   "metadata": {},
   "source": [
    "#### The Central Limit Theorem\n",
    "The Central Limit Theorem (CLT) is one of the most important discoveries in the history of mathematics and statistics. \n",
    "\n",
    "#### The Uniform Probability Distribution\n"
   ]
  },
  {
   "cell_type": "markdown",
   "metadata": {},
   "source": [
    "# Monte Carlo simulation"
   ]
  },
  {
   "cell_type": "code",
   "execution_count": 3,
   "metadata": {},
   "outputs": [],
   "source": [
    "from symbulate import *\n",
    "#'exec(%matplotlib inline)' \n",
    "import matplotlib\n",
    "\n",
    "import matplotlib.pyplot as plt"
   ]
  },
  {
   "cell_type": "markdown",
   "metadata": {},
   "source": [
    "#### Simulating numbers with the UNIFORM probability distribution"
   ]
  },
  {
   "cell_type": "code",
   "execution_count": 5,
   "metadata": {},
   "outputs": [
    {
     "data": {
      "image/png": "[encoded data removed]",
      "text/plain": [
       "<Figure size 432x288 with 1 Axes>"
      ]
     },
     "metadata": {
      "needs_background": "light"
     },
     "output_type": "display_data"
    }
   ],
   "source": [
    "# clear the plot space:\n",
    "plt.clf()\n",
    "# Define the probability type of function as uniform (probability space)\n",
    "P = Uniform(0,40)\n",
    "# Define X as a random variable of the type P (uniform)\n",
    "X =RV(P)\n",
    "# Simulate the values of X and save the in the x array: \n",
    "x=X.sim(10000)\n",
    "x.plot()\n",
    "plt.show()"
   ]
  },
  {
   "cell_type": "code",
   "execution_count": 6,
   "metadata": {},
   "outputs": [
    {
     "name": "stdout",
     "output_type": "stream",
     "text": [
      "19.736703871772416\n",
      "11.610925269004687\n"
     ]
    }
   ],
   "source": [
    "mean1= x.mean()\n",
    "sd1 = x.std()\n",
    "print(mean1)\n",
    "print(sd1)\n",
    "# LA MEDIA ES MUY CERCANA A LA TEORICA QUE ESPERABAMOS, LA CUAL TIENDE A 20\n",
    "# LA DESVIACION ESTANDAR TAMBIEN ES MUY CERCANA A LA ESPERADA"
   ]
  },
  {
   "cell_type": "code",
   "execution_count": 7,
   "metadata": {},
   "outputs": [],
   "source": [
    "#### Now generate 10,000 groups of 25 uniform random variables to end up in a matrix of 10,000 rows and 25 columns:\n",
    "\n",
    "# Define the probability space as a vector of 25 uniform random numbers:\n",
    "P = Uniform(0,40) ** 25\n",
    "# Define XVECTOR as a vector of random variables with 25 random values \n",
    "XVECTOR =RV(P)\n",
    "# Simulate 10,000 vectors to get a matrix  \n",
    "xmatrix=XVECTOR.sim(10000)"
   ]
  },
  {
   "cell_type": "code",
   "execution_count": 8,
   "metadata": {},
   "outputs": [
    {
     "data": {
      "text/html": [
       "\n",
       "    <table>\n",
       "      <thead>\n",
       "        <th width=\"10%\">Index</th>\n",
       "        <th width=\"90%\">Result</th>\n",
       "      </thead>\n",
       "      <tbody>\n",
       "        \n",
       "        <tr>\n",
       "          <td>0</td><td>(22.88116833138315, 9.293080772038094, 28.629737186905967, 2.66693153842692, 29.336511441129108, ......</td>\n",
       "        </tr>\n",
       "        \n",
       "        <tr>\n",
       "          <td>1</td><td>(0.354722415050035, 2.018961093634992, 33.526236116744165, 22.743930354179412, 3.6010944964321956, ....</td>\n",
       "        </tr>\n",
       "        \n",
       "        <tr>\n",
       "          <td>2</td><td>(11.813650871280906, 13.453660854325499, 18.69100296343092, 24.79512620056672, 23.718970164610013, ....</td>\n",
       "        </tr>\n",
       "        \n",
       "        <tr>\n",
       "          <td>3</td><td>(21.18420928369914, 2.1281743160191624, 10.0248591801288, 15.531639526272464, 6.869566194500081, ......</td>\n",
       "        </tr>\n",
       "        \n",
       "        <tr>\n",
       "          <td>4</td><td>(14.613751399223709, 34.10966964334592, 24.153284055437823, 17.66181055833178, 14.581827862481287, ....</td>\n",
       "        </tr>\n",
       "        \n",
       "        <tr>\n",
       "          <td>5</td><td>(35.83361895998455, 32.996332254035735, 30.676426665449593, 18.629933894632465, 20.893958278265984, ...</td>\n",
       "        </tr>\n",
       "        \n",
       "        <tr>\n",
       "          <td>6</td><td>(10.928626863019627, 17.148736517038515, 12.905467414558407, 33.32266711351889, 27.750428950784247, ...</td>\n",
       "        </tr>\n",
       "        \n",
       "        <tr>\n",
       "          <td>7</td><td>(1.453304705346703, 34.63599319317949, 24.026270157277153, 17.733999892997744, 39.37894304382595, .....</td>\n",
       "        </tr>\n",
       "        \n",
       "        <tr>\n",
       "          <td>8</td><td>(7.127263073144516, 17.969669522103324, 2.4451548956149605, 39.943574625610964, 15.621608484634342, ...</td>\n",
       "        </tr>\n",
       "        <tr><td>...</td><td>...</td></tr>\n",
       "        <tr>\n",
       "          <td>9999</td><td>(16.772397664104833, 21.248374372463793, 35.68909119833648, 16.738292489027447, 5.210490183120515, ....</td>\n",
       "        </tr>\n",
       "        \n",
       "      </tbody>\n",
       "    </table>\n",
       "        "
      ],
      "text/plain": [
       "Index Result\n",
       "0     (22.88116833138315, 9.293080772038094, 28.629737186905967, 2.66693153842692, 29.336511441129108, ..., 15.811929764827873)\n",
       "1     (0.354722415050035, 2.018961093634992, 33.526236116744165, 22.743930354179412, 3.6010944964321956, ..., 33.5104904891135)\n",
       "2     (11.813650871280906, 13.453660854325499, 18.69100296343092, 24.79512620056672, 23.718970164610013, ..., 30.2486991619241)\n",
       "3     (21.18420928369914, 2.1281743160191624, 10.0248591801288, 15.531639526272464, 6.869566194500081, ..., 21.873925571044055)\n",
       "4     (14.613751399223709, 34.10966964334592, 24.153284055437823, 17.66181055833178, 14.581827862481287, ..., 2.8739757769910135)\n",
       "5     (35.83361895998455, 32.996332254035735, 30.676426665449593, 18.629933894632465, 20.893958278265984, ..., 0.25442756900388996)\n",
       "6     (10.928626863019627, 17.148736517038515, 12.905467414558407, 33.32266711351889, 27.750428950784247, ..., 13.411849257531006)\n",
       "7     (1.453304705346703, 34.63599319317949, 24.026270157277153, 17.733999892997744, 39.37894304382595, ..., 32.280602029714366)\n",
       "8     (7.127263073144516, 17.969669522103324, 2.4451548956149605, 39.943574625610964, 15.621608484634342, ..., 13.466944355904232)\n",
       "....  ...........................................................................................................................\n",
       "9999  (16.772397664104833, 21.248374372463793, 35.68909119833648, 16.738292489027447, 5.210490183120515, ..., 27.359091027812347)"
      ]
     },
     "execution_count": 8,
     "metadata": {},
     "output_type": "execute_result"
    }
   ],
   "source": [
    "## Now xmatrix will have 10,000 rows and 25 columns of uniform random numbers between 0 and 40:\n",
    "xmatrix"
   ]
  },
  {
   "cell_type": "code",
   "execution_count": 9,
   "metadata": {},
   "outputs": [
    {
     "data": {
      "text/html": [
       "\n",
       "    <table>\n",
       "      <thead>\n",
       "        <th width=\"10%\">Index</th>\n",
       "        <th width=\"90%\">Result</th>\n",
       "      </thead>\n",
       "      <tbody>\n",
       "        \n",
       "        <tr>\n",
       "          <td>0</td><td>18.591480192834517</td>\n",
       "        </tr>\n",
       "        \n",
       "        <tr>\n",
       "          <td>1</td><td>19.523191424773916</td>\n",
       "        </tr>\n",
       "        \n",
       "        <tr>\n",
       "          <td>2</td><td>22.280647878890367</td>\n",
       "        </tr>\n",
       "        \n",
       "        <tr>\n",
       "          <td>3</td><td>20.439386897945166</td>\n",
       "        </tr>\n",
       "        \n",
       "        <tr>\n",
       "          <td>4</td><td>24.408746654569605</td>\n",
       "        </tr>\n",
       "        \n",
       "        <tr>\n",
       "          <td>5</td><td>23.546262936706913</td>\n",
       "        </tr>\n",
       "        \n",
       "        <tr>\n",
       "          <td>6</td><td>19.804517838478585</td>\n",
       "        </tr>\n",
       "        \n",
       "        <tr>\n",
       "          <td>7</td><td>21.84825318276395</td>\n",
       "        </tr>\n",
       "        \n",
       "        <tr>\n",
       "          <td>8</td><td>20.907105543183558</td>\n",
       "        </tr>\n",
       "        <tr><td>...</td><td>...</td></tr>\n",
       "        <tr>\n",
       "          <td>9999</td><td>19.1841577458684</td>\n",
       "        </tr>\n",
       "        \n",
       "      </tbody>\n",
       "    </table>\n",
       "        "
      ],
      "text/plain": [
       "Index Result\n",
       "0     18.591480192834517\n",
       "1     19.523191424773916\n",
       "2     22.280647878890367\n",
       "3     20.439386897945166\n",
       "4     24.408746654569605\n",
       "5     23.546262936706913\n",
       "6     19.804517838478585\n",
       "7     21.84825318276395\n",
       "8     20.907105543183558\n",
       "....  ................\n",
       "9999  19.1841577458684"
      ]
     },
     "execution_count": 9,
     "metadata": {},
     "output_type": "execute_result"
    }
   ],
   "source": [
    "### Now we get the mean of each row, so we end up with 10,000 sample means:\n",
    "\n",
    "# The 2nd parameter is the mathematical operation applied to each row of the random vector\n",
    "# Simulate 10,000 means of each random vector of 25 uniform distributed numbers: \n",
    "xmean = RV(P,mean).sim(10000)\n",
    "xmean"
   ]
  },
  {
   "cell_type": "code",
   "execution_count": 11,
   "metadata": {},
   "outputs": [
    {
     "data": {
      "image/png": "[encoded data removed]",
      "text/plain": [
       "<Figure size 432x288 with 1 Axes>"
      ]
     },
     "metadata": {
      "needs_background": "light"
     },
     "output_type": "display_data"
    }
   ],
   "source": [
    "## Now do a histogram of these sample means that come from a UNIFORM distribution.\n",
    "plt.clf()\n",
    "xmean.plot()\n",
    "plt.show()"
   ]
  },
  {
   "cell_type": "markdown",
   "metadata": {},
   "source": [
    "CALCULATE THE MEAN AND STANDARD DEVIATION OF THE xmean VARIABLE. HOW SIMILAR OR DIFFERENT ARE THESE VALUES FROM THE MEAN AND STANDARD DEVIATION OF x?"
   ]
  },
  {
   "cell_type": "code",
   "execution_count": 12,
   "metadata": {},
   "outputs": [
    {
     "name": "stdout",
     "output_type": "stream",
     "text": [
      "20.004662648852555\n",
      "2.29501850165599\n"
     ]
    }
   ],
   "source": [
    "print(xmean.mean())\n",
    "print(xmean.std())"
   ]
  },
  {
   "cell_type": "markdown",
   "metadata": {},
   "source": [
    "Now plot both variables in the same plot; the original x uniform variable and the xsample variable (the sample means of x)."
   ]
  },
  {
   "cell_type": "code",
   "execution_count": 14,
   "metadata": {},
   "outputs": [
    {
     "data": {
      "image/png": "[encoded data removed]",
      "text/plain": [
       "<Figure size 432x288 with 1 Axes>"
      ]
     },
     "metadata": {
      "needs_background": "light"
     },
     "output_type": "display_data"
    }
   ],
   "source": [
    "plt.clf()\n",
    "xmean.plot()\n",
    "x.plot()\n",
    "plt.show()"
   ]
  },
  {
   "cell_type": "markdown",
   "metadata": {},
   "source": [
    "## Simulating numbers with the NORMAL probability distribution"
   ]
  },
  {
   "cell_type": "markdown",
   "metadata": {},
   "source": [
    "Let’s simulate a normal distributed variable Y with mean = 20 and standard devation = 10."
   ]
  },
  {
   "cell_type": "code",
   "execution_count": 15,
   "metadata": {},
   "outputs": [
    {
     "data": {
      "image/png": "[encoded data removed]",
      "text/plain": [
       "<Figure size 432x288 with 1 Axes>"
      ]
     },
     "metadata": {
      "needs_background": "light"
     },
     "output_type": "display_data"
    }
   ],
   "source": [
    "# clear the plot space:\n",
    "plt.clf()\n",
    "# Define the probability type of function as uniform (probability space)\n",
    "P = Normal(mean=20, sd=10)\n",
    "# Define Y as a random variable of the type P (normal)\n",
    "Y =RV(P)\n",
    "# Simulate 10,000 values of Y and save the in the x array: \n",
    "y=Y.sim(10000)\n",
    "y.plot()\n",
    "plt.show()"
   ]
  },
  {
   "cell_type": "code",
   "execution_count": 16,
   "metadata": {},
   "outputs": [
    {
     "name": "stdout",
     "output_type": "stream",
     "text": [
      "20.056182919189688\n",
      "9.995518156490297\n"
     ]
    }
   ],
   "source": [
    "### CALCULATE THE MEAN AND STANDARD DEVIATION OF THE mean VARIABLE. \n",
    "print(y.mean())\n",
    "print(y.std())"
   ]
  },
  {
   "cell_type": "markdown",
   "metadata": {},
   "source": [
    "Now generate 10,000 groups of 25 NORMAL random variables with mean=20 and SD=10. You will end up with a matrix of 10,000 rows and 25 columns:"
   ]
  },
  {
   "cell_type": "code",
   "execution_count": 17,
   "metadata": {},
   "outputs": [],
   "source": [
    "# Define the probability space P as a vector of 25 normal random numbers:\n",
    "P = Normal(mean=20, sd=10) ** 25\n",
    "# Define RANDOMVECTOR as a vector of 25 random variables in the Probability space P \n",
    "RANDOMVECTOR = RV(P)\n",
    "# Simulate 10,000 random vectors with this distribution and save the in ymatrix: \n",
    "ymatrix=RANDOMVECTOR.sim(10000)"
   ]
  },
  {
   "cell_type": "code",
   "execution_count": 18,
   "metadata": {},
   "outputs": [
    {
     "data": {
      "text/html": [
       "\n",
       "    <table>\n",
       "      <thead>\n",
       "        <th width=\"10%\">Index</th>\n",
       "        <th width=\"90%\">Result</th>\n",
       "      </thead>\n",
       "      <tbody>\n",
       "        \n",
       "        <tr>\n",
       "          <td>0</td><td>(25.788461311031988, 29.75143727530147, 27.458982398903874, 31.488024338342406, 13.836036411243324, ...</td>\n",
       "        </tr>\n",
       "        \n",
       "        <tr>\n",
       "          <td>1</td><td>(24.504398473415506, 17.633273591158854, 10.310878275349722, 18.43835094074725, 23.14123678882314, ....</td>\n",
       "        </tr>\n",
       "        \n",
       "        <tr>\n",
       "          <td>2</td><td>(14.84352000906804, 16.552348968161326, 28.737721042991065, 19.27525268073854, 18.535449873721767, ....</td>\n",
       "        </tr>\n",
       "        \n",
       "        <tr>\n",
       "          <td>3</td><td>(11.622423605356897, 16.935211267252487, 17.532902019714566, 13.663480919729894, 25.013290463560452,...</td>\n",
       "        </tr>\n",
       "        \n",
       "        <tr>\n",
       "          <td>4</td><td>(10.90529721919366, 22.87898466795958, 23.835505450321715, 27.98360445999912, 26.827894269854276, .....</td>\n",
       "        </tr>\n",
       "        \n",
       "        <tr>\n",
       "          <td>5</td><td>(27.90762879305519, -8.348066872573973, 24.05673088297552, 13.22791414024558, 10.937476890493457, .....</td>\n",
       "        </tr>\n",
       "        \n",
       "        <tr>\n",
       "          <td>6</td><td>(20.698828994005755, 38.90927577118745, 29.39509470562367, 26.84352718281378, 34.20746414042213, ......</td>\n",
       "        </tr>\n",
       "        \n",
       "        <tr>\n",
       "          <td>7</td><td>(17.073376596890483, 4.78398052466191, 26.983995790987716, 21.99845965638823, 39.08452352187077, ......</td>\n",
       "        </tr>\n",
       "        \n",
       "        <tr>\n",
       "          <td>8</td><td>(23.09187912172678, 33.361119817559555, 7.972891771837848, 18.699540704988067, 19.37728360582025, .....</td>\n",
       "        </tr>\n",
       "        <tr><td>...</td><td>...</td></tr>\n",
       "        <tr>\n",
       "          <td>9999</td><td>(0.1264472802311687, 14.421867444123528, 21.2793457472248, 34.325580369451174, 5.079332402674186, .....</td>\n",
       "        </tr>\n",
       "        \n",
       "      </tbody>\n",
       "    </table>\n",
       "        "
      ],
      "text/plain": [
       "Index Result\n",
       "0     (25.788461311031988, 29.75143727530147, 27.458982398903874, 31.488024338342406, 13.836036411243324, ..., 23.03589065257752)\n",
       "1     (24.504398473415506, 17.633273591158854, 10.310878275349722, 18.43835094074725, 23.14123678882314, ..., 7.166220961184504)\n",
       "2     (14.84352000906804, 16.552348968161326, 28.737721042991065, 19.27525268073854, 18.535449873721767, ..., 32.40581320977602)\n",
       "3     (11.622423605356897, 16.935211267252487, 17.532902019714566, 13.663480919729894, 25.013290463560452, ..., 14.569726744063628)\n",
       "4     (10.90529721919366, 22.87898466795958, 23.835505450321715, 27.98360445999912, 26.827894269854276, ..., 20.560312475526903)\n",
       "5     (27.90762879305519, -8.348066872573973, 24.05673088297552, 13.22791414024558, 10.937476890493457, ..., 15.521311250193389)\n",
       "6     (20.698828994005755, 38.90927577118745, 29.39509470562367, 26.84352718281378, 34.20746414042213, ..., 22.917627256651627)\n",
       "7     (17.073376596890483, 4.78398052466191, 26.983995790987716, 21.99845965638823, 39.08452352187077, ..., 15.294912496800539)\n",
       "8     (23.09187912172678, 33.361119817559555, 7.972891771837848, 18.699540704988067, 19.37728360582025, ..., 16.511386560080275)\n",
       "....  .........................................................................................................................\n",
       "9999  (0.1264472802311687, 14.421867444123528, 21.2793457472248, 34.325580369451174, 5.079332402674186, ..., 3.929255677707765)"
      ]
     },
     "execution_count": 18,
     "metadata": {},
     "output_type": "execute_result"
    }
   ],
   "source": [
    "ymatrix"
   ]
  },
  {
   "cell_type": "markdown",
   "metadata": {},
   "source": [
    "Now we get the mean of each vector (row) to get 10,000 sample means:"
   ]
  },
  {
   "cell_type": "code",
   "execution_count": 19,
   "metadata": {},
   "outputs": [
    {
     "data": {
      "text/html": [
       "\n",
       "    <table>\n",
       "      <thead>\n",
       "        <th width=\"10%\">Index</th>\n",
       "        <th width=\"90%\">Result</th>\n",
       "      </thead>\n",
       "      <tbody>\n",
       "        \n",
       "        <tr>\n",
       "          <td>0</td><td>23.122016628340244</td>\n",
       "        </tr>\n",
       "        \n",
       "        <tr>\n",
       "          <td>1</td><td>20.026751030339714</td>\n",
       "        </tr>\n",
       "        \n",
       "        <tr>\n",
       "          <td>2</td><td>20.346907581834618</td>\n",
       "        </tr>\n",
       "        \n",
       "        <tr>\n",
       "          <td>3</td><td>20.908635312146103</td>\n",
       "        </tr>\n",
       "        \n",
       "        <tr>\n",
       "          <td>4</td><td>20.712389151010598</td>\n",
       "        </tr>\n",
       "        \n",
       "        <tr>\n",
       "          <td>5</td><td>20.54760804566118</td>\n",
       "        </tr>\n",
       "        \n",
       "        <tr>\n",
       "          <td>6</td><td>21.53034432072483</td>\n",
       "        </tr>\n",
       "        \n",
       "        <tr>\n",
       "          <td>7</td><td>16.48048883578816</td>\n",
       "        </tr>\n",
       "        \n",
       "        <tr>\n",
       "          <td>8</td><td>18.41314909079212</td>\n",
       "        </tr>\n",
       "        <tr><td>...</td><td>...</td></tr>\n",
       "        <tr>\n",
       "          <td>9999</td><td>19.313999247792676</td>\n",
       "        </tr>\n",
       "        \n",
       "      </tbody>\n",
       "    </table>\n",
       "        "
      ],
      "text/plain": [
       "Index Result\n",
       "0     23.122016628340244\n",
       "1     20.026751030339714\n",
       "2     20.346907581834618\n",
       "3     20.908635312146103\n",
       "4     20.712389151010598\n",
       "5     20.54760804566118\n",
       "6     21.53034432072483\n",
       "7     16.48048883578816\n",
       "8     18.41314909079212\n",
       "....  ..................\n",
       "9999  19.313999247792676"
      ]
     },
     "execution_count": 19,
     "metadata": {},
     "output_type": "execute_result"
    }
   ],
   "source": [
    "# The 2nd parameter is the mathematical operation applied to each row of the random vector\n",
    "# Simulate 10,000 means of each random vector of 25 uniform distributed numbers: \n",
    "ymean = RV(P,mean).sim(10000)\n",
    "ymean"
   ]
  },
  {
   "cell_type": "markdown",
   "metadata": {},
   "source": [
    "Now do a histogram of these sample means of Y."
   ]
  },
  {
   "cell_type": "code",
   "execution_count": 20,
   "metadata": {},
   "outputs": [
    {
     "data": {
      "image/png": "[encoded data removed]",
      "text/plain": [
       "<Figure size 432x288 with 1 Axes>"
      ]
     },
     "metadata": {
      "needs_background": "light"
     },
     "output_type": "display_data"
    }
   ],
   "source": [
    "plt.clf()\n",
    "ymean.plot()\n",
    "plt.show()"
   ]
  },
  {
   "cell_type": "markdown",
   "metadata": {},
   "source": [
    "CALCULATE THE MEAN AND STANDARD DEVIATION OF THE ymean VARIABLE. HOW SIMILAR OR DIFFERENT ARE THESE VALUES FROM THE MEAN AND STANDARD DEVIATION OF y?"
   ]
  },
  {
   "cell_type": "code",
   "execution_count": 26,
   "metadata": {},
   "outputs": [
    {
     "data": {
      "image/png": "[encoded data removed]",
      "text/plain": [
       "<Figure size 432x288 with 1 Axes>"
      ]
     },
     "metadata": {
      "needs_background": "light"
     },
     "output_type": "display_data"
    }
   ],
   "source": [
    "plt.clf()\n",
    "ymean.plot()\n",
    "y.plot()\n",
    "plt.show()"
   ]
  },
  {
   "cell_type": "code",
   "execution_count": 27,
   "metadata": {},
   "outputs": [
    {
     "name": "stdout",
     "output_type": "stream",
     "text": [
      "19.982511857853737\n",
      "1.97994235669702\n",
      "20.056182919189688\n",
      "9.995518156490297\n"
     ]
    }
   ],
   "source": [
    "print(ymean.mean())\n",
    "print(ymean.std())\n",
    "\n",
    "print(y.mean())\n",
    "print(y.std())"
   ]
  },
  {
   "cell_type": "markdown",
   "metadata": {},
   "source": [
    "### Challenge"
   ]
  },
  {
   "cell_type": "markdown",
   "metadata": {},
   "source": [
    "HO: The mean cc return of MSFT is zero\n",
    "HA: The mean cc return of MSFT is greater than zero"
   ]
  },
  {
   "cell_type": "code",
   "execution_count": 3,
   "metadata": {},
   "outputs": [],
   "source": [
    "import numpy as np\n",
    "import pandas as pd\n",
    "import pandas_datareader as pdr"
   ]
  },
  {
   "cell_type": "code",
   "execution_count": 9,
   "metadata": {},
   "outputs": [],
   "source": [
    "MSFT = pdr.get_data_yahoo('MSFT',\n",
    "start=\"01/01/2017\", interval=\"m\")"
   ]
  },
  {
   "cell_type": "code",
   "execution_count": 10,
   "metadata": {},
   "outputs": [
    {
     "data": {
      "text/html": [
       "<div>\n",
       "<style scoped>\n",
       "    .dataframe tbody tr th:only-of-type {\n",
       "        vertical-align: middle;\n",
       "    }\n",
       "\n",
       "    .dataframe tbody tr th {\n",
       "        vertical-align: top;\n",
       "    }\n",
       "\n",
       "    .dataframe thead th {\n",
       "        text-align: right;\n",
       "    }\n",
       "</style>\n",
       "<table border=\"1\" class=\"dataframe\">\n",
       "  <thead>\n",
       "    <tr style=\"text-align: right;\">\n",
       "      <th></th>\n",
       "      <th>High</th>\n",
       "      <th>Low</th>\n",
       "      <th>Open</th>\n",
       "      <th>Close</th>\n",
       "      <th>Volume</th>\n",
       "      <th>Adj Close</th>\n",
       "    </tr>\n",
       "    <tr>\n",
       "      <th>Date</th>\n",
       "      <th></th>\n",
       "      <th></th>\n",
       "      <th></th>\n",
       "      <th></th>\n",
       "      <th></th>\n",
       "      <th></th>\n",
       "    </tr>\n",
       "  </thead>\n",
       "  <tbody>\n",
       "    <tr>\n",
       "      <th>2017-01-01</th>\n",
       "      <td>65.910004</td>\n",
       "      <td>61.950001</td>\n",
       "      <td>62.790001</td>\n",
       "      <td>64.650002</td>\n",
       "      <td>493453500.0</td>\n",
       "      <td>59.846745</td>\n",
       "    </tr>\n",
       "    <tr>\n",
       "      <th>2017-02-01</th>\n",
       "      <td>65.239998</td>\n",
       "      <td>62.750000</td>\n",
       "      <td>64.360001</td>\n",
       "      <td>63.980000</td>\n",
       "      <td>440744000.0</td>\n",
       "      <td>59.226521</td>\n",
       "    </tr>\n",
       "    <tr>\n",
       "      <th>2017-03-01</th>\n",
       "      <td>66.190002</td>\n",
       "      <td>63.619999</td>\n",
       "      <td>64.129997</td>\n",
       "      <td>65.860001</td>\n",
       "      <td>489169700.0</td>\n",
       "      <td>61.336445</td>\n",
       "    </tr>\n",
       "    <tr>\n",
       "      <th>2017-04-01</th>\n",
       "      <td>69.139999</td>\n",
       "      <td>64.849998</td>\n",
       "      <td>65.809998</td>\n",
       "      <td>68.459999</td>\n",
       "      <td>433191200.0</td>\n",
       "      <td>63.757854</td>\n",
       "    </tr>\n",
       "    <tr>\n",
       "      <th>2017-05-01</th>\n",
       "      <td>70.739998</td>\n",
       "      <td>67.139999</td>\n",
       "      <td>68.680000</td>\n",
       "      <td>69.839996</td>\n",
       "      <td>517218500.0</td>\n",
       "      <td>65.043076</td>\n",
       "    </tr>\n",
       "  </tbody>\n",
       "</table>\n",
       "</div>"
      ],
      "text/plain": [
       "                 High        Low       Open      Close       Volume  Adj Close\n",
       "Date                                                                          \n",
       "2017-01-01  65.910004  61.950001  62.790001  64.650002  493453500.0  59.846745\n",
       "2017-02-01  65.239998  62.750000  64.360001  63.980000  440744000.0  59.226521\n",
       "2017-03-01  66.190002  63.619999  64.129997  65.860001  489169700.0  61.336445\n",
       "2017-04-01  69.139999  64.849998  65.809998  68.459999  433191200.0  63.757854\n",
       "2017-05-01  70.739998  67.139999  68.680000  69.839996  517218500.0  65.043076"
      ]
     },
     "execution_count": 10,
     "metadata": {},
     "output_type": "execute_result"
    }
   ],
   "source": [
    "MSFT.head()"
   ]
  },
  {
   "cell_type": "code",
   "execution_count": 15,
   "metadata": {},
   "outputs": [
    {
     "data": {
      "text/html": [
       "<div>\n",
       "<style scoped>\n",
       "    .dataframe tbody tr th:only-of-type {\n",
       "        vertical-align: middle;\n",
       "    }\n",
       "\n",
       "    .dataframe tbody tr th {\n",
       "        vertical-align: top;\n",
       "    }\n",
       "\n",
       "    .dataframe thead th {\n",
       "        text-align: right;\n",
       "    }\n",
       "</style>\n",
       "<table border=\"1\" class=\"dataframe\">\n",
       "  <thead>\n",
       "    <tr style=\"text-align: right;\">\n",
       "      <th></th>\n",
       "      <th>High</th>\n",
       "      <th>Low</th>\n",
       "      <th>Open</th>\n",
       "      <th>Close</th>\n",
       "      <th>Volume</th>\n",
       "      <th>Adj Close</th>\n",
       "      <th>R</th>\n",
       "    </tr>\n",
       "    <tr>\n",
       "      <th>Date</th>\n",
       "      <th></th>\n",
       "      <th></th>\n",
       "      <th></th>\n",
       "      <th></th>\n",
       "      <th></th>\n",
       "      <th></th>\n",
       "      <th></th>\n",
       "    </tr>\n",
       "  </thead>\n",
       "  <tbody>\n",
       "    <tr>\n",
       "      <th>2022-05-01</th>\n",
       "      <td>290.880005</td>\n",
       "      <td>246.440002</td>\n",
       "      <td>277.709991</td>\n",
       "      <td>271.869995</td>\n",
       "      <td>742902000.0</td>\n",
       "      <td>271.238251</td>\n",
       "      <td>-0.020359</td>\n",
       "    </tr>\n",
       "    <tr>\n",
       "      <th>2022-06-01</th>\n",
       "      <td>277.690002</td>\n",
       "      <td>241.509995</td>\n",
       "      <td>275.200012</td>\n",
       "      <td>256.829987</td>\n",
       "      <td>621372300.0</td>\n",
       "      <td>256.829987</td>\n",
       "      <td>-0.055321</td>\n",
       "    </tr>\n",
       "    <tr>\n",
       "      <th>2022-07-01</th>\n",
       "      <td>282.000000</td>\n",
       "      <td>245.940002</td>\n",
       "      <td>256.390015</td>\n",
       "      <td>280.739990</td>\n",
       "      <td>534868400.0</td>\n",
       "      <td>280.739990</td>\n",
       "      <td>0.093097</td>\n",
       "    </tr>\n",
       "    <tr>\n",
       "      <th>2022-08-01</th>\n",
       "      <td>291.910004</td>\n",
       "      <td>272.380005</td>\n",
       "      <td>277.820007</td>\n",
       "      <td>291.910004</td>\n",
       "      <td>212179300.0</td>\n",
       "      <td>291.910004</td>\n",
       "      <td>0.039788</td>\n",
       "    </tr>\n",
       "    <tr>\n",
       "      <th>2022-08-12</th>\n",
       "      <td>291.910004</td>\n",
       "      <td>286.940002</td>\n",
       "      <td>288.480011</td>\n",
       "      <td>291.910004</td>\n",
       "      <td>22619675.0</td>\n",
       "      <td>291.910004</td>\n",
       "      <td>0.000000</td>\n",
       "    </tr>\n",
       "  </tbody>\n",
       "</table>\n",
       "</div>"
      ],
      "text/plain": [
       "                  High         Low        Open       Close       Volume  \\\n",
       "Date                                                                      \n",
       "2022-05-01  290.880005  246.440002  277.709991  271.869995  742902000.0   \n",
       "2022-06-01  277.690002  241.509995  275.200012  256.829987  621372300.0   \n",
       "2022-07-01  282.000000  245.940002  256.390015  280.739990  534868400.0   \n",
       "2022-08-01  291.910004  272.380005  277.820007  291.910004  212179300.0   \n",
       "2022-08-12  291.910004  286.940002  288.480011  291.910004   22619675.0   \n",
       "\n",
       "             Adj Close         R  \n",
       "Date                              \n",
       "2022-05-01  271.238251 -0.020359  \n",
       "2022-06-01  256.829987 -0.055321  \n",
       "2022-07-01  280.739990  0.093097  \n",
       "2022-08-01  291.910004  0.039788  \n",
       "2022-08-12  291.910004  0.000000  "
      ]
     },
     "execution_count": 15,
     "metadata": {},
     "output_type": "execute_result"
    }
   ],
   "source": [
    "MSFT.tail()"
   ]
  },
  {
   "cell_type": "code",
   "execution_count": 11,
   "metadata": {},
   "outputs": [
    {
     "name": "stdout",
     "output_type": "stream",
     "text": [
      "Date\n",
      "2017-01-01         NaN\n",
      "2017-02-01   -0.010364\n",
      "2017-03-01    0.029384\n",
      "2017-04-01    0.039478\n",
      "2017-05-01    0.020158\n",
      "                ...   \n",
      "2022-05-01   -0.020359\n",
      "2022-06-01   -0.055321\n",
      "2022-07-01    0.093097\n",
      "2022-08-01    0.039788\n",
      "2022-08-12    0.000000\n",
      "Name: R, Length: 69, dtype: float64\n"
     ]
    }
   ],
   "source": [
    "#MSFT= MSFT.dropna()\n",
    "MSFT[\"R\"] = (MSFT[\"Close\"] / MSFT[\"Close\"].shift(1)) - 1\n",
    "print(MSFT[\"R\"])\n",
    "\n"
   ]
  },
  {
   "cell_type": "code",
   "execution_count": 14,
   "metadata": {},
   "outputs": [
    {
     "name": "stdout",
     "output_type": "stream",
     "text": [
      "0.055658415383390794\n",
      "0.023907682657811666\n"
     ]
    }
   ],
   "source": [
    "sd = MSFT[\"R\"].std()\n",
    "mn = MSFT[\"R\"].mean()\n",
    "print(sd)\n",
    "print(mn)\n"
   ]
  },
  {
   "cell_type": "code",
   "execution_count": 13,
   "metadata": {},
   "outputs": [
    {
     "data": {
      "image/png": "[encoded data removed]",
      "text/plain": [
       "<Figure size 432x288 with 1 Axes>"
      ]
     },
     "metadata": {
      "needs_background": "light"
     },
     "output_type": "display_data"
    }
   ],
   "source": [
    "r_microsoft = pd.DataFrame(MSFT[[\"R\"]])\n",
    "hist=r_microsoft.plot.hist(bins=12,alpha=0.5,title=\"Histogram of daily Microsoft Returns\")"
   ]
  },
  {
   "cell_type": "markdown",
   "metadata": {},
   "source": [
    "T-value: 3.298\n",
    "Interpretation:\n",
    "\n",
    "Min(95%): 0.8%\n",
    "Max(95%): 3.2%\n",
    "Interpretation: \n",
    "The monthly return of Microsoft will be positive, wich means that you will get a profit between 0.85 and 3.2% with a 95% of certainty\n"
   ]
  }
 ],
 "metadata": {
  "kernelspec": {
   "display_name": "Python 3.10.2 64-bit",
   "language": "python",
   "name": "python3"
  },
  "language_info": {
   "codemirror_mode": {
    "name": "ipython",
    "version": 3
   },
   "file_extension": ".py",
   "mimetype": "text/x-python",
   "name": "python",
   "nbconvert_exporter": "python",
   "pygments_lexer": "ipython3",
   "version": "3.10.2"
  },
  "orig_nbformat": 4,
  "vscode": {
   "interpreter": {
    "hash": "94fd35bdfbdadf0cce7f7ebd34d4304e9f552af4e7bb7e536a3d4281b53fd810"
   }
  }
 },
 "nbformat": 4,
 "nbformat_minor": 2
}
