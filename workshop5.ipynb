{
 "cells": [
  {
   "cell_type": "code",
   "execution_count": 1,
   "metadata": {},
   "outputs": [],
   "source": [
    "import pandas_datareader as pdr\n",
    "import pandas as pd\n",
    "import numpy as np\n",
    "import matplotlib\n",
    "import matplotlib.pyplot as plt\n",
    "\n",
    "# Getting price data and selecting adjusted price columns:\n",
    "sprices = pdr.get_data_yahoo(['ALFAA.MX','^MXX'],start=\"01/01/2018\", end=\"07/31/2022\",interval=\"m\")\n",
    "sprices = sprices['Adj Close']\n",
    "\n",
    "# Calculating returns:\n",
    "sr = np.log(sprices) - np.log(sprices.shift(1))\n",
    "# Deleting the first month with NAs:\n",
    "sr=sr.dropna()\n",
    "sr.columns=['ALFAA','MXX']"
   ]
  },
  {
   "cell_type": "code",
   "execution_count": 2,
   "metadata": {},
   "outputs": [
    {
     "data": {
      "image/png": "[encoded data removed]",
      "text/plain": [
       "<Figure size 432x288 with 1 Axes>"
      ]
     },
     "metadata": {
      "needs_background": "light"
     },
     "output_type": "display_data"
    }
   ],
   "source": [
    "# Scatter plots can be misleading when ranges of X and Y are very different.\n",
    "# In this case, Alfa had a very bad month in the COVID crisis with more than 60% loss!! \n",
    "# Then, we can re-do the scatter plot trying to make the X and Y axis using the same range of values \n",
    "plt.clf()\n",
    "x=sr['MXX']\n",
    "y = sr['ALFAA']\n",
    "plt.scatter(x, y)\n",
    "# Now I add the regression line:\n",
    "b1,b0 = np.polyfit(x,y,1)\n",
    "yfit = b0+b1*x\n",
    "\n",
    "plt.plot(x, yfit,c=\"orange\")\n",
    "\n",
    "plt.xticks(np.arange(-0.50,0.5,0.1))\n",
    "plt.xlabel(\"Market returns\")\n",
    "plt.ylabel(\"Alfa returns\")\n",
    "\n",
    "plt.show()"
   ]
  },
  {
   "cell_type": "code",
   "execution_count": 4,
   "metadata": {},
   "outputs": [
    {
     "name": "stdout",
     "output_type": "stream",
     "text": [
      "                            OLS Regression Results                            \n",
      "==============================================================================\n",
      "Dep. Variable:                  ALFAA   R-squared:                       0.351\n",
      "Model:                            OLS   Adj. R-squared:                  0.339\n",
      "Method:                 Least Squares   F-statistic:                     28.69\n",
      "Date:                Sun, 21 Aug 2022   Prob (F-statistic):           1.87e-06\n",
      "Time:                        23:28:10   Log-Likelihood:                 43.927\n",
      "No. Observations:                  55   AIC:                            -83.85\n",
      "Df Residuals:                      53   BIC:                            -79.84\n",
      "Df Model:                           1                                         \n",
      "Covariance Type:            nonrobust                                         \n",
      "==============================================================================\n",
      "                 coef    std err          t      P>|t|      [0.025      0.975]\n",
      "------------------------------------------------------------------------------\n",
      "const         -0.0079      0.015     -0.526      0.601      -0.038       0.022\n",
      "MXX            1.5389      0.287      5.357      0.000       0.963       2.115\n",
      "==============================================================================\n",
      "Omnibus:                        9.454   Durbin-Watson:                   2.205\n",
      "Prob(Omnibus):                  0.009   Jarque-Bera (JB):               22.417\n",
      "Skew:                          -0.137   Prob(JB):                     1.36e-05\n",
      "Kurtosis:                       6.116   Cond. No.                         19.2\n",
      "==============================================================================\n",
      "\n",
      "Notes:\n",
      "[1] Standard Errors assume that the covariance matrix of the errors is correctly specified.\n"
     ]
    }
   ],
   "source": [
    "import statsmodels.api as sm\n",
    "X = sm.add_constant(x)\n",
    "\n",
    "mkmodel = sm.OLS(y,X).fit()\n",
    " \n",
    "print(mkmodel.summary())"
   ]
  },
  {
   "cell_type": "code",
   "execution_count": 5,
   "metadata": {},
   "outputs": [
    {
     "data": {
      "text/plain": [
       "array([-0.00786281,  1.53894499])"
      ]
     },
     "execution_count": 5,
     "metadata": {},
     "output_type": "execute_result"
    }
   ],
   "source": [
    "# Using matrix algebra to estimate the beta coefficients:\n",
    "sr['constant'] = 1\n",
    "selcols = ['constant','MXX']\n",
    "x = sr[selcols].values\n",
    "y = sr['ALFAA'].values\n",
    "\n",
    "xtx = np.matmul(x.transpose(),x)\n",
    "xty = np.matmul(x.transpose(),y)\n",
    "invtxt = np.linalg.inv(xtx)\n",
    "\n",
    "betas = np.matmul(invtxt,xty)\n",
    "betas"
   ]
  },
  {
   "cell_type": "markdown",
   "metadata": {},
   "source": [
    "t0 = (B0 - 0) / SD(B0)\n",
    "\n",
    "t1 = (B1 - 0) / SD(B1)"
   ]
  },
  {
   "cell_type": "markdown",
   "metadata": {},
   "source": [
    "t0 = (-0.0078 - 0) / 0.015 = -0.521\n",
    "\n",
    "t1 = (1.539 - 0) / 0.287 = 5.36"
   ]
  },
  {
   "cell_type": "markdown",
   "metadata": {},
   "source": [
    "THE t-value TELLS US HOW FAR IS THE ESTIMATED VALUE OF THE BETA FROM ITS HYPOTETICAL VALUE (ZERO). ITS IMPORTANT TO REMEMBER THAT THIS T-VALUE REPRESENTS HOW MANY STANDARD DEVIATIONS THE DIFFERENCE IS BETWEEN THESE TWO VALUES. "
   ]
  }
 ],
 "metadata": {
  "kernelspec": {
   "display_name": "Python 3.10.2 64-bit",
   "language": "python",
   "name": "python3"
  },
  "language_info": {
   "codemirror_mode": {
    "name": "ipython",
    "version": 3
   },
   "file_extension": ".py",
   "mimetype": "text/x-python",
   "name": "python",
   "nbconvert_exporter": "python",
   "pygments_lexer": "ipython3",
   "version": "3.10.2"
  },
  "orig_nbformat": 4,
  "vscode": {
   "interpreter": {
    "hash": "94fd35bdfbdadf0cce7f7ebd34d4304e9f552af4e7bb7e536a3d4281b53fd810"
   }
  }
 },
 "nbformat": 4,
 "nbformat_minor": 2
}
